{
 "cells": [
  {
   "cell_type": "markdown",
   "metadata": {},
   "source": [
    "##  EDA (Reviews de States de Google)"
   ]
  },
  {
   "cell_type": "code",
   "execution_count": 5,
   "metadata": {},
   "outputs": [],
   "source": [
    "# Importamos las bibliotecas necesarias\n",
    "import findspark\n",
    "findspark.init()\n",
    "import pyspark\n",
    "findspark.find()\n",
    "import os"
   ]
  },
  {
   "cell_type": "code",
   "execution_count": 6,
   "metadata": {},
   "outputs": [],
   "source": [
    "# Importamos las bibliotecas necesarias para Spark y definimos alias\n",
    "from pyspark.sql.functions import col\n",
    "from pyspark.sql import functions as F\n",
    "from pyspark import SparkContext, SparkConf\n",
    "from pyspark.sql import SparkSession\n",
    "from pyspark.sql.functions import from_unixtime\n",
    "\n",
    "# Configuramos Spark para poder procesar de forma local archivos de gran tamaño\n",
    "conf = SparkConf().setAppName('appName').setMaster('local') \\\n",
    "    .set(\"spark.driver.memory\", \"8g\") \\\n",
    "    .set(\"spark.executor.memory\", \"6g\") \\\n",
    "    .set(\"spark.executor.cores\", \"3\") \\\n",
    "    .set(\"spark.dynamicAllocation.maxExecutors\", \"2\")\n",
    "\n",
    "\n",
    "sc = pyspark.SparkContext(conf=conf)\n",
    "spark = SparkSession(sc)"
   ]
  },
  {
   "cell_type": "markdown",
   "metadata": {},
   "source": [
    "Establecemos una sesión de Spark para gestionar el procesamiento"
   ]
  },
  {
   "cell_type": "code",
   "execution_count": 7,
   "metadata": {},
   "outputs": [
    {
     "data": {
      "text/html": [
       "\n",
       "            <div>\n",
       "                <p><b>SparkSession - in-memory</b></p>\n",
       "                \n",
       "        <div>\n",
       "            <p><b>SparkContext</b></p>\n",
       "\n",
       "            <p><a href=\"http://DESKTOP-6EESO67:4040\">Spark UI</a></p>\n",
       "\n",
       "            <dl>\n",
       "              <dt>Version</dt>\n",
       "                <dd><code>v3.4.1</code></dd>\n",
       "              <dt>Master</dt>\n",
       "                <dd><code>local</code></dd>\n",
       "              <dt>AppName</dt>\n",
       "                <dd><code>appName</code></dd>\n",
       "            </dl>\n",
       "        </div>\n",
       "        \n",
       "            </div>\n",
       "        "
      ],
      "text/plain": [
       "<pyspark.sql.session.SparkSession at 0x1924ef31fc0>"
      ]
     },
     "execution_count": 7,
     "metadata": {},
     "output_type": "execute_result"
    }
   ],
   "source": [
    "# Inicializamos la sesión de Spark\n",
    "spark"
   ]
  },
  {
   "cell_type": "code",
   "execution_count": 8,
   "metadata": {},
   "outputs": [],
   "source": [
    "# Importamos la biblioteca para Koalas\n",
    "import collections.abc\n",
    "collections.Iterable = collections.abc.Iterable\n",
    "collections.Mapping = collections.abc.Mapping\n",
    "collections.MutableSet = collections.abc.MutableSet\n",
    "collections.MutableMapping = collections.abc.MutableMapping\n",
    "collections.Callable = collections.abc.Callable\n",
    "\n",
    "import databricks.koalas as ks"
   ]
  },
  {
   "cell_type": "markdown",
   "metadata": {},
   "source": [
    "Hemos creado una función que nos permite extraer y concatenar los datos de los cinco estados seleccionados. Dado el volumen considerable de datos con el que estamos tratando, hemos tomado la decisión de aprovechar las ventajas de las herramientas Spark y Koalas para lograr un procesamiento más eficiente."
   ]
  },
  {
   "cell_type": "code",
   "execution_count": 9,
   "metadata": {},
   "outputs": [],
   "source": [
    "# Se define una función para leer archivos Parquet y convertirlos a DataFrames de Koalas\n",
    "def read_parquet_files(directory, estado):\n",
    "    dataframes_koalas = []\n",
    "\n",
    "    for archivo in os.listdir(directory):\n",
    "        if archivo.endswith('.parquet'):\n",
    "            ruta_archivo = os.path.join(directory, archivo)\n",
    "            df_spark = spark.read.parquet(ruta_archivo)\n",
    "            df_koalas = ks.DataFrame(df_spark)  # Convertimos a DataFrame de Koalas\n",
    "            df_koalas['state'] = estado  # Agregamos la columna \"Estado\"\n",
    "            dataframes_koalas.append(df_koalas)\n",
    "\n",
    "    return ks.concat(dataframes_koalas, ignore_index=True)\n",
    "\n",
    "# Directorios de los estados\n",
    "directorio_California = r'C:\\Escritorio\\PF\\states_reviews\\states_reviews\\review-California'\n",
    "directorio_Florida = r'C:\\Escritorio\\PF\\states_reviews\\states_reviews\\review-Florida'\n",
    "directorio_Illinois = r'C:\\Escritorio\\PF\\states_reviews\\states_reviews\\review-Illinois'\n",
    "directorio_New_York = r'C:\\Escritorio\\PF\\states_reviews\\states_reviews\\review-New_York'\n",
    "directorio_Texas = r'C:\\Escritorio\\PF\\states_reviews\\states_reviews\\review-Texas'\n",
    "\n",
    "# Leer y concatenar los DataFrames para cada estado\n",
    "df_California = read_parquet_files(directorio_California, 'California')\n",
    "df_Florida = read_parquet_files(directorio_Florida, 'Florida')\n",
    "df_Illinois = read_parquet_files(directorio_Illinois, 'Illinois')\n",
    "df_New_York = read_parquet_files(directorio_New_York, 'New York')\n",
    "df_Texas = read_parquet_files(directorio_Texas, 'Texas')"
   ]
  },
  {
   "cell_type": "code",
   "execution_count": 10,
   "metadata": {},
   "outputs": [
    {
     "data": {
      "text/html": [
       "<div>\n",
       "<style scoped>\n",
       "    .dataframe tbody tr th:only-of-type {\n",
       "        vertical-align: middle;\n",
       "    }\n",
       "\n",
       "    .dataframe tbody tr th {\n",
       "        vertical-align: top;\n",
       "    }\n",
       "\n",
       "    .dataframe thead th {\n",
       "        text-align: right;\n",
       "    }\n",
       "</style>\n",
       "<table border=\"1\" class=\"dataframe\">\n",
       "  <thead>\n",
       "    <tr style=\"text-align: right;\">\n",
       "      <th></th>\n",
       "      <th>user_id</th>\n",
       "      <th>name</th>\n",
       "      <th>time</th>\n",
       "      <th>rating</th>\n",
       "      <th>text</th>\n",
       "      <th>pics</th>\n",
       "      <th>resp</th>\n",
       "      <th>gmap_id</th>\n",
       "      <th>state</th>\n",
       "    </tr>\n",
       "  </thead>\n",
       "  <tbody>\n",
       "    <tr>\n",
       "      <th>0</th>\n",
       "      <td>108991152262655788985</td>\n",
       "      <td>Song Ro</td>\n",
       "      <td>1609909927056</td>\n",
       "      <td>5</td>\n",
       "      <td>Love there korean rice cake.</td>\n",
       "      <td>None</td>\n",
       "      <td>None</td>\n",
       "      <td>0x80c2c778e3b73d33:0xbdc58662a4a97d49</td>\n",
       "      <td>California</td>\n",
       "    </tr>\n",
       "    <tr>\n",
       "      <th>1</th>\n",
       "      <td>111290322219796215751</td>\n",
       "      <td>Rafa Robles</td>\n",
       "      <td>1612849648663</td>\n",
       "      <td>5</td>\n",
       "      <td>Good very good</td>\n",
       "      <td>None</td>\n",
       "      <td>None</td>\n",
       "      <td>0x80c2c778e3b73d33:0xbdc58662a4a97d49</td>\n",
       "      <td>California</td>\n",
       "    </tr>\n",
       "    <tr>\n",
       "      <th>2</th>\n",
       "      <td>112640357449611959087</td>\n",
       "      <td>David Han</td>\n",
       "      <td>1583643882296</td>\n",
       "      <td>4</td>\n",
       "      <td>They make Korean traditional food very properly.</td>\n",
       "      <td>None</td>\n",
       "      <td>None</td>\n",
       "      <td>0x80c2c778e3b73d33:0xbdc58662a4a97d49</td>\n",
       "      <td>California</td>\n",
       "    </tr>\n",
       "    <tr>\n",
       "      <th>3</th>\n",
       "      <td>117440349723823658676</td>\n",
       "      <td>Anthony Kim</td>\n",
       "      <td>1551938216355</td>\n",
       "      <td>5</td>\n",
       "      <td>Short ribs are very delicious.</td>\n",
       "      <td>None</td>\n",
       "      <td>None</td>\n",
       "      <td>0x80c2c778e3b73d33:0xbdc58662a4a97d49</td>\n",
       "      <td>California</td>\n",
       "    </tr>\n",
       "    <tr>\n",
       "      <th>4</th>\n",
       "      <td>100580770836123539210</td>\n",
       "      <td>Mario Marzouk</td>\n",
       "      <td>1494910901933</td>\n",
       "      <td>5</td>\n",
       "      <td>Great food and prices the portions are large</td>\n",
       "      <td>None</td>\n",
       "      <td>None</td>\n",
       "      <td>0x80c2c778e3b73d33:0xbdc58662a4a97d49</td>\n",
       "      <td>California</td>\n",
       "    </tr>\n",
       "  </tbody>\n",
       "</table>\n",
       "</div>"
      ],
      "text/plain": [
       "                 user_id           name           time  rating                                              text  pics  resp                                gmap_id       state\n",
       "0  108991152262655788985        Song Ro  1609909927056       5                      Love there korean rice cake.  None  None  0x80c2c778e3b73d33:0xbdc58662a4a97d49  California\n",
       "1  111290322219796215751    Rafa Robles  1612849648663       5                                    Good very good  None  None  0x80c2c778e3b73d33:0xbdc58662a4a97d49  California\n",
       "2  112640357449611959087      David Han  1583643882296       4  They make Korean traditional food very properly.  None  None  0x80c2c778e3b73d33:0xbdc58662a4a97d49  California\n",
       "3  117440349723823658676    Anthony Kim  1551938216355       5                    Short ribs are very delicious.  None  None  0x80c2c778e3b73d33:0xbdc58662a4a97d49  California\n",
       "4  100580770836123539210  Mario Marzouk  1494910901933       5      Great food and prices the portions are large  None  None  0x80c2c778e3b73d33:0xbdc58662a4a97d49  California"
      ]
     },
     "execution_count": 10,
     "metadata": {},
     "output_type": "execute_result"
    }
   ],
   "source": [
    "# Concatenamos los DataFrames de los estados en uno solo\n",
    "df_reviews_top_5 = ks.concat([df_California, df_Florida, df_Illinois, df_New_York, df_Texas])\n",
    "df_reviews_top_5.head()"
   ]
  },
  {
   "cell_type": "code",
   "execution_count": 11,
   "metadata": {},
   "outputs": [
    {
     "data": {
      "text/plain": [
       "11746824"
      ]
     },
     "execution_count": 11,
     "metadata": {},
     "output_type": "execute_result"
    }
   ],
   "source": [
    "# Obtenemos la longitud del DataFrame\n",
    "len(df_reviews_top_5)"
   ]
  },
  {
   "cell_type": "code",
   "execution_count": 12,
   "metadata": {},
   "outputs": [
    {
     "data": {
      "text/plain": [
       "user_id           0\n",
       "name              0\n",
       "time              0\n",
       "rating            0\n",
       "text        4870400\n",
       "pics       11348752\n",
       "resp       10246105\n",
       "gmap_id           0\n",
       "state             0\n",
       "Name: 0, dtype: int64"
      ]
     },
     "execution_count": 12,
     "metadata": {},
     "output_type": "execute_result"
    }
   ],
   "source": [
    "# Controlamos valores nulos en el DataFrame\n",
    "df_reviews_top_5.isnull().sum()"
   ]
  },
  {
   "cell_type": "markdown",
   "metadata": {},
   "source": [
    "Dada la cantidad de valores nulos con los que contamos en las columnas 'text', 'pics' y 'resp', consideramos que la mejor decisión es eliminar los mismos de la base de datos"
   ]
  },
  {
   "cell_type": "code",
   "execution_count": 13,
   "metadata": {},
   "outputs": [],
   "source": [
    "# Creamos un nuevo DataFrame eliminando columnas específicas\n",
    "df_reviews_top_5_clean = df_reviews_top_5.drop(columns=['text', 'pics', 'resp'])"
   ]
  },
  {
   "cell_type": "code",
   "execution_count": 14,
   "metadata": {},
   "outputs": [
    {
     "data": {
      "text/html": [
       "<div>\n",
       "<style scoped>\n",
       "    .dataframe tbody tr th:only-of-type {\n",
       "        vertical-align: middle;\n",
       "    }\n",
       "\n",
       "    .dataframe tbody tr th {\n",
       "        vertical-align: top;\n",
       "    }\n",
       "\n",
       "    .dataframe thead th {\n",
       "        text-align: right;\n",
       "    }\n",
       "</style>\n",
       "<table border=\"1\" class=\"dataframe\">\n",
       "  <thead>\n",
       "    <tr style=\"text-align: right;\">\n",
       "      <th></th>\n",
       "      <th>user_id</th>\n",
       "      <th>name</th>\n",
       "      <th>time</th>\n",
       "      <th>rating</th>\n",
       "      <th>gmap_id</th>\n",
       "      <th>state</th>\n",
       "    </tr>\n",
       "  </thead>\n",
       "  <tbody>\n",
       "    <tr>\n",
       "      <th>0</th>\n",
       "      <td>108991152262655788985</td>\n",
       "      <td>Song Ro</td>\n",
       "      <td>1609909927056</td>\n",
       "      <td>5</td>\n",
       "      <td>0x80c2c778e3b73d33:0xbdc58662a4a97d49</td>\n",
       "      <td>California</td>\n",
       "    </tr>\n",
       "    <tr>\n",
       "      <th>1</th>\n",
       "      <td>111290322219796215751</td>\n",
       "      <td>Rafa Robles</td>\n",
       "      <td>1612849648663</td>\n",
       "      <td>5</td>\n",
       "      <td>0x80c2c778e3b73d33:0xbdc58662a4a97d49</td>\n",
       "      <td>California</td>\n",
       "    </tr>\n",
       "    <tr>\n",
       "      <th>2</th>\n",
       "      <td>112640357449611959087</td>\n",
       "      <td>David Han</td>\n",
       "      <td>1583643882296</td>\n",
       "      <td>4</td>\n",
       "      <td>0x80c2c778e3b73d33:0xbdc58662a4a97d49</td>\n",
       "      <td>California</td>\n",
       "    </tr>\n",
       "    <tr>\n",
       "      <th>3</th>\n",
       "      <td>117440349723823658676</td>\n",
       "      <td>Anthony Kim</td>\n",
       "      <td>1551938216355</td>\n",
       "      <td>5</td>\n",
       "      <td>0x80c2c778e3b73d33:0xbdc58662a4a97d49</td>\n",
       "      <td>California</td>\n",
       "    </tr>\n",
       "    <tr>\n",
       "      <th>4</th>\n",
       "      <td>100580770836123539210</td>\n",
       "      <td>Mario Marzouk</td>\n",
       "      <td>1494910901933</td>\n",
       "      <td>5</td>\n",
       "      <td>0x80c2c778e3b73d33:0xbdc58662a4a97d49</td>\n",
       "      <td>California</td>\n",
       "    </tr>\n",
       "  </tbody>\n",
       "</table>\n",
       "</div>"
      ],
      "text/plain": [
       "                 user_id           name           time  rating                                gmap_id       state\n",
       "0  108991152262655788985        Song Ro  1609909927056       5  0x80c2c778e3b73d33:0xbdc58662a4a97d49  California\n",
       "1  111290322219796215751    Rafa Robles  1612849648663       5  0x80c2c778e3b73d33:0xbdc58662a4a97d49  California\n",
       "2  112640357449611959087      David Han  1583643882296       4  0x80c2c778e3b73d33:0xbdc58662a4a97d49  California\n",
       "3  117440349723823658676    Anthony Kim  1551938216355       5  0x80c2c778e3b73d33:0xbdc58662a4a97d49  California\n",
       "4  100580770836123539210  Mario Marzouk  1494910901933       5  0x80c2c778e3b73d33:0xbdc58662a4a97d49  California"
      ]
     },
     "execution_count": 14,
     "metadata": {},
     "output_type": "execute_result"
    }
   ],
   "source": [
    "# Mostramos las primeras filas del DataFrame limpio\n",
    "df_reviews_top_5_clean.head()"
   ]
  },
  {
   "cell_type": "markdown",
   "metadata": {},
   "source": [
    "Eliminamos las filas con valores duplicados para evitar que afecten en nuestro análisis"
   ]
  },
  {
   "cell_type": "code",
   "execution_count": 15,
   "metadata": {},
   "outputs": [
    {
     "data": {
      "text/html": [
       "<div>\n",
       "<style scoped>\n",
       "    .dataframe tbody tr th:only-of-type {\n",
       "        vertical-align: middle;\n",
       "    }\n",
       "\n",
       "    .dataframe tbody tr th {\n",
       "        vertical-align: top;\n",
       "    }\n",
       "\n",
       "    .dataframe thead th {\n",
       "        text-align: right;\n",
       "    }\n",
       "</style>\n",
       "<table border=\"1\" class=\"dataframe\">\n",
       "  <thead>\n",
       "    <tr style=\"text-align: right;\">\n",
       "      <th></th>\n",
       "      <th>user_id</th>\n",
       "      <th>name</th>\n",
       "      <th>time</th>\n",
       "      <th>rating</th>\n",
       "      <th>gmap_id</th>\n",
       "      <th>state</th>\n",
       "    </tr>\n",
       "  </thead>\n",
       "  <tbody>\n",
       "    <tr>\n",
       "      <th>1812280</th>\n",
       "      <td>100000019059943251257</td>\n",
       "      <td>Jim Hajek</td>\n",
       "      <td>1532172902488</td>\n",
       "      <td>5</td>\n",
       "      <td>0x880fd36b093a9a07:0x940cc06f90294db</td>\n",
       "      <td>Illinois</td>\n",
       "    </tr>\n",
       "    <tr>\n",
       "      <th>1418443</th>\n",
       "      <td>100000019059943251257</td>\n",
       "      <td>Jim Hajek</td>\n",
       "      <td>1542748194590</td>\n",
       "      <td>5</td>\n",
       "      <td>0x880e4cae16c03f93:0x8ad15acaf8ffd496</td>\n",
       "      <td>Illinois</td>\n",
       "    </tr>\n",
       "    <tr>\n",
       "      <th>466029</th>\n",
       "      <td>100000020623254171349</td>\n",
       "      <td>Zachary Kular</td>\n",
       "      <td>1498657367260</td>\n",
       "      <td>4</td>\n",
       "      <td>0x880fab1b8261c301:0xc13854f55b0feec4</td>\n",
       "      <td>Illinois</td>\n",
       "    </tr>\n",
       "    <tr>\n",
       "      <th>1792773</th>\n",
       "      <td>100000020623254171349</td>\n",
       "      <td>Zachary Kular</td>\n",
       "      <td>1558493360838</td>\n",
       "      <td>5</td>\n",
       "      <td>0x880e2de4633757b5:0x4679b7845e3ee752</td>\n",
       "      <td>Illinois</td>\n",
       "    </tr>\n",
       "    <tr>\n",
       "      <th>1735594</th>\n",
       "      <td>100000029979508209337</td>\n",
       "      <td>Raychel Perez</td>\n",
       "      <td>1593401857411</td>\n",
       "      <td>5</td>\n",
       "      <td>0x80eacb93b18677bb:0x6eb86c000772bf33</td>\n",
       "      <td>California</td>\n",
       "    </tr>\n",
       "  </tbody>\n",
       "</table>\n",
       "</div>"
      ],
      "text/plain": [
       "                       user_id           name           time  rating                                gmap_id       state\n",
       "1812280  100000019059943251257      Jim Hajek  1532172902488       5   0x880fd36b093a9a07:0x940cc06f90294db    Illinois\n",
       "1418443  100000019059943251257      Jim Hajek  1542748194590       5  0x880e4cae16c03f93:0x8ad15acaf8ffd496    Illinois\n",
       "466029   100000020623254171349  Zachary Kular  1498657367260       4  0x880fab1b8261c301:0xc13854f55b0feec4    Illinois\n",
       "1792773  100000020623254171349  Zachary Kular  1558493360838       5  0x880e2de4633757b5:0x4679b7845e3ee752    Illinois\n",
       "1735594  100000029979508209337  Raychel Perez  1593401857411       5  0x80eacb93b18677bb:0x6eb86c000772bf33  California"
      ]
     },
     "execution_count": 15,
     "metadata": {},
     "output_type": "execute_result"
    }
   ],
   "source": [
    "# Eliminamos las filas duplicadas en el DataFrame\n",
    "df_reviews_google_top_5 = df_reviews_top_5_clean.drop_duplicates()\n",
    "df_reviews_google_top_5.head()"
   ]
  },
  {
   "cell_type": "markdown",
   "metadata": {},
   "source": [
    "Obtenemos el total de filas del DataFrame resultante para comprender con cuantos datos contamos de reviews de los cinco estados correspondientes"
   ]
  },
  {
   "cell_type": "code",
   "execution_count": 16,
   "metadata": {},
   "outputs": [
    {
     "data": {
      "text/plain": [
       "11392427"
      ]
     },
     "execution_count": 16,
     "metadata": {},
     "output_type": "execute_result"
    }
   ],
   "source": [
    "# Obtenemos la longitud del nuevo DataFrame sin duplicados\n",
    "len(df_reviews_google_top_5)"
   ]
  },
  {
   "cell_type": "markdown",
   "metadata": {},
   "source": [
    "Verificamos la presencia de valores atípicos en la columna 'rating'"
   ]
  },
  {
   "cell_type": "code",
   "execution_count": 17,
   "metadata": {},
   "outputs": [
    {
     "name": "stdout",
     "output_type": "stream",
     "text": [
      "[5, 1, 3, 2, 4]\n"
     ]
    }
   ],
   "source": [
    "# Controlamos que en el rating no haya valores outliers\n",
    "unique_ratings = df_reviews_google_top_5[\"rating\"].unique().to_list()\n",
    "print(unique_ratings)"
   ]
  },
  {
   "cell_type": "code",
   "execution_count": 18,
   "metadata": {},
   "outputs": [
    {
     "name": "stdout",
     "output_type": "stream",
     "text": [
      "+--------------------+--------------------+-------------+------+--------------------+----------+\n",
      "|             user_id|                name|         time|rating|             gmap_id|     state|\n",
      "+--------------------+--------------------+-------------+------+--------------------+----------+\n",
      "|10000001905994325...|           Jim Hajek|1532172902488|     5|0x880fd36b093a9a0...|  Illinois|\n",
      "|10000001905994325...|           Jim Hajek|1542748194590|     5|0x880e4cae16c03f9...|  Illinois|\n",
      "|10000002062325417...|       Zachary Kular|1498657367260|     4|0x880fab1b8261c30...|  Illinois|\n",
      "|10000002062325417...|       Zachary Kular|1558493360838|     5|0x880e2de4633757b...|  Illinois|\n",
      "|10000002997950820...|       Raychel Perez|1593401857411|     5|0x80eacb93b18677b...|California|\n",
      "|10000004867909222...|        Ruby Johnson|1607728724073|     4|0x864db2282e13047...|     Texas|\n",
      "|10000008541895975...|      Kevin Broadway|1545840301933|     5|0x8893892abc9823b...|   Florida|\n",
      "|10000011422746342...|      steve krawczyk|1514980324220|     5|0x880e3c9f37489e8...|  Illinois|\n",
      "|10000019927521183...|    Richard Hockaday|1542812571969|     5|0x88e5b65aaaaaaaa...|   Florida|\n",
      "|10000023243532316...|      frenchspotting|1554870146972|     5|0x8640c0a178fe2a3...|     Texas|\n",
      "|10000027582445879...|             Antny G|1619624163827|     4|0x88e5fb11d956ed2...|   Florida|\n",
      "|10000029220861808...|    Nazokat Rajabova|1538968664985|     5|0x808fcb1e09e86fe...|California|\n",
      "|10000031736439659...|       Stephen Eason|1614362627424|     4|0x889383046cccbcf...|   Florida|\n",
      "|10000034619861029...|     Ashley Whitcher|1568315904678|     5|0x8647332d9953683...|     Texas|\n",
      "|10000036012634657...|Hey-You Just me M...|1596833471664|     5|0x80db1d18055a462...|California|\n",
      "|10000036508049763...|    Kimberly Walcott|1512730522116|     5|0x89c25cf3b7a1e53...|  New York|\n",
      "|10000037834553215...|        Trung Nguyễn|1498138831572|     4|0x88e5c68c9b28d5e...|   Florida|\n",
      "|10000037834553215...|        Trung Nguyễn|1531477650436|     3|0x88e5afaf22996da...|   Florida|\n",
      "|10000037834553215...|        Trung Nguyễn|1569666136596|     3|0x88e5ca4821b0237...|   Florida|\n",
      "|10000050674022872...|          rich lenke|1564466520213|     5|0x80c2b980de827c0...|California|\n",
      "+--------------------+--------------------+-------------+------+--------------------+----------+\n",
      "only showing top 20 rows\n",
      "\n"
     ]
    }
   ],
   "source": [
    "# Volvemos a convertir el DataFrame de Koala a Spark\n",
    "df_reviews_google_top_5 = df_reviews_google_top_5.to_spark()\n",
    "\n",
    "# Mostrar el DataFrame Spark resultante\n",
    "df_reviews_google_top_5.show()"
   ]
  },
  {
   "cell_type": "markdown",
   "metadata": {},
   "source": [
    "Obtenemos la suma y porcentaje final de los valores de la columna 'rating' para entender la distribución y puntuación general de los usuarios"
   ]
  },
  {
   "cell_type": "code",
   "execution_count": 19,
   "metadata": {},
   "outputs": [
    {
     "name": "stdout",
     "output_type": "stream",
     "text": [
      "+------+-------+-----------------+\n",
      "|rating|  count|       percentage|\n",
      "+------+-------+-----------------+\n",
      "|     5|7274308| 63.8521361602756|\n",
      "|     1| 722411|6.341151011983663|\n",
      "|     3| 951471|8.351784918174152|\n",
      "|     2| 348219|3.056583114379403|\n",
      "|     4|2096018|18.39834479518719|\n",
      "+------+-------+-----------------+\n",
      "\n"
     ]
    }
   ],
   "source": [
    "total_rows = df_reviews_google_top_5.count()\n",
    "# Calcular la cantidad de ocurrencias para cada valor de 'rating'\n",
    "rating_counts = df_reviews_google_top_5.groupBy('rating').count()\n",
    "# Calcular el porcentaje de cada valor de 'rating'\n",
    "rating_percentages = rating_counts.withColumn('percentage', (col('count') / total_rows) * 100)\n",
    "rating_percentages.show()"
   ]
  },
  {
   "cell_type": "markdown",
   "metadata": {},
   "source": [
    "Transformamos la columna 'time' de su formato original para poder obtener las fechas en un formato legible"
   ]
  },
  {
   "cell_type": "code",
   "execution_count": 20,
   "metadata": {},
   "outputs": [
    {
     "name": "stdout",
     "output_type": "stream",
     "text": [
      "+--------------------+--------------------+-------------------+------+--------------------+----------+\n",
      "|             user_id|                name|               time|rating|             gmap_id|     state|\n",
      "+--------------------+--------------------+-------------------+------+--------------------+----------+\n",
      "|10000001905994325...|           Jim Hajek|2018-07-21 13:35:02|     5|0x880fd36b093a9a0...|  Illinois|\n",
      "|10000001905994325...|           Jim Hajek|2018-11-20 22:09:54|     5|0x880e4cae16c03f9...|  Illinois|\n",
      "|10000002062325417...|       Zachary Kular|2017-06-28 15:42:47|     4|0x880fab1b8261c30...|  Illinois|\n",
      "|10000002062325417...|       Zachary Kular|2019-05-22 04:49:20|     5|0x880e2de4633757b...|  Illinois|\n",
      "|10000002997950820...|       Raychel Perez|2020-06-29 05:37:37|     5|0x80eacb93b18677b...|California|\n",
      "|10000004867909222...|        Ruby Johnson|2020-12-12 00:18:44|     4|0x864db2282e13047...|     Texas|\n",
      "|10000008541895975...|      Kevin Broadway|2018-12-26 17:05:01|     5|0x8893892abc9823b...|   Florida|\n",
      "|10000011422746342...|      steve krawczyk|2018-01-03 12:52:04|     5|0x880e3c9f37489e8...|  Illinois|\n",
      "|10000019927521183...|    Richard Hockaday|2018-11-21 16:02:51|     5|0x88e5b65aaaaaaaa...|   Florida|\n",
      "|10000023243532316...|      frenchspotting|2019-04-10 06:22:26|     5|0x8640c0a178fe2a3...|     Texas|\n",
      "|10000027582445879...|             Antny G|2021-04-28 17:36:03|     4|0x88e5fb11d956ed2...|   Florida|\n",
      "|10000029220861808...|    Nazokat Rajabova|2018-10-08 05:17:44|     5|0x808fcb1e09e86fe...|California|\n",
      "|10000031736439659...|       Stephen Eason|2021-02-26 19:03:47|     4|0x889383046cccbcf...|   Florida|\n",
      "|10000034619861029...|     Ashley Whitcher|2019-09-12 21:18:24|     5|0x8647332d9953683...|     Texas|\n",
      "|10000036012634657...|Hey-You Just me M...|2020-08-07 22:51:11|     5|0x80db1d18055a462...|California|\n",
      "|10000036508049763...|    Kimberly Walcott|2017-12-08 11:55:22|     5|0x89c25cf3b7a1e53...|  New York|\n",
      "|10000037834553215...|        Trung Nguyễn|2017-06-22 15:40:31|     4|0x88e5c68c9b28d5e...|   Florida|\n",
      "|10000037834553215...|        Trung Nguyễn|2018-07-13 12:27:30|     3|0x88e5afaf22996da...|   Florida|\n",
      "|10000037834553215...|        Trung Nguyễn|2019-09-28 12:22:16|     3|0x88e5ca4821b0237...|   Florida|\n",
      "|10000050674022872...|          rich lenke|2019-07-30 08:02:00|     5|0x80c2b980de827c0...|California|\n",
      "+--------------------+--------------------+-------------------+------+--------------------+----------+\n",
      "only showing top 20 rows\n",
      "\n"
     ]
    }
   ],
   "source": [
    "# Convertimos milisegundos a segundos y aplicamos el formato de tiempo\n",
    "df_reviews_google_top_5 = df_reviews_google_top_5.withColumn(\"time\", from_unixtime(df_reviews_google_top_5[\"time\"]/1000))\n",
    "# Mostrar el DataFrame resultante\n",
    "df_reviews_google_top_5.show()"
   ]
  },
  {
   "cell_type": "markdown",
   "metadata": {},
   "source": [
    "Y por último importamos el DataFrame resultante para poder exportarlo a la base de datos"
   ]
  },
  {
   "cell_type": "code",
   "execution_count": null,
   "metadata": {},
   "outputs": [],
   "source": [
    "df_reviews_google_top_5 = df_reviews_google_top_5.coalesce(1)\n",
    "\n",
    "# Ruta para guardar el archivo Parquet\n",
    "ruta_exportacion = 'C:/Escritorio/PF/states_reviews/reviews_google_top_5.parquet'\n",
    "\n",
    "# Guardar el DataFrame en formato Parquet con una sola partición\n",
    "df_reviews_google_top_5.write.parquet(ruta_exportacion, compression='snappy')"
   ]
  },
  {
   "cell_type": "code",
   "execution_count": 3,
   "metadata": {},
   "outputs": [],
   "source": [
    "import os\n",
    "import mysql.connector\n",
    "password = os.environ.get('PASSWORD')"
   ]
  },
  {
   "cell_type": "code",
   "execution_count": 8,
   "metadata": {},
   "outputs": [],
   "source": [
    "connection = mysql.connector.connect(host='databasegy.cdmolmugarf8.us-west-1.rds.amazonaws.com', port='3306', user='data13', password = password)\n",
    "cursor = connection.cursor()"
   ]
  }
 ],
 "metadata": {
  "kernelspec": {
   "display_name": "Python 3",
   "language": "python",
   "name": "python3"
  },
  "language_info": {
   "codemirror_mode": {
    "name": "ipython",
    "version": 3
   },
   "file_extension": ".py",
   "mimetype": "text/x-python",
   "name": "python",
   "nbconvert_exporter": "python",
   "pygments_lexer": "ipython3",
   "version": "3.10.11"
  },
  "orig_nbformat": 4
 },
 "nbformat": 4,
 "nbformat_minor": 2
}
