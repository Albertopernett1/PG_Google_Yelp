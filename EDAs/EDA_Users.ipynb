{
 "cells": [
  {
   "cell_type": "code",
   "execution_count": null,
   "metadata": {},
   "outputs": [],
   "source": [
    "# Importa las bibliotecas necesarias\n",
    "import os\n",
    "import findspark\n",
    "from pyspark.sql import SparkSession\n",
    "import databricks.koalas as ks\n",
    "\n",
    "# Establece las rutas y variables de entorno\n",
    "JAVA_HOME = \"/usr/lib/jvm/java-8-openjdk-amd64\"\n",
    "SPARK_HOME = \"/ruta/a/spark-3.1.3-bin-hadoop2.7\"\n",
    "\n",
    "os.environ[\"JAVA_HOME\"] = JAVA_HOME\n",
    "os.environ[\"SPARK_HOME\"] = SPARK_HOME\n",
    "\n",
    "findspark.init()\n",
    "\n",
    "# Crea una sesión de Spark\n",
    "spark = SparkSession.builder.master(\"local[*]\").getOrCreate()\n",
    "\n",
    "# Lee el archivo JSON y conviértelo a un DataFrame Koalas\n",
    "user = spark.read.load(\"C:/Users/Iovan/Desktop/user.json\", format=\"json\")\n",
    "eda_user = ks.DataFrame(user.toPandas())"
   ]
  },
  {
   "cell_type": "markdown",
   "metadata": {},
   "source": [
    "Aqui comenzaremos a realizar la transformacion de la data para obtener un conjunto de datos basicos "
   ]
  },
  {
   "cell_type": "code",
   "execution_count": null,
   "metadata": {},
   "outputs": [],
   "source": [
    "eda_user.shape()"
   ]
  },
  {
   "cell_type": "code",
   "execution_count": null,
   "metadata": {},
   "outputs": [],
   "source": [
    "eda_user.head()"
   ]
  },
  {
   "cell_type": "code",
   "execution_count": null,
   "metadata": {},
   "outputs": [],
   "source": [
    "eda_user.describe()"
   ]
  },
  {
   "cell_type": "code",
   "execution_count": null,
   "metadata": {},
   "outputs": [],
   "source": [
    "eda_user['fans'].describe()"
   ]
  },
  {
   "cell_type": "code",
   "execution_count": null,
   "metadata": {},
   "outputs": [],
   "source": [
    "import pandas as pd\n",
    "\n",
    "# Función para contar amigos\n",
    "def count_friends(value):\n",
    "    return len(value.split(', '))\n",
    "\n",
    "eda_user['friends_number'] = k_user['friends'].apply(count_friends)\n",
    "\n",
    "# Media de amigos\n",
    "mean_friends = eda_user['friends_number'].mean()\n",
    "\n",
    "# Número máximo de amigos\n",
    "max_friends = eda_user['friends_number'].max()\n",
    "\n",
    "# Calcula estadísticas descriptivas\n",
    "desc_stats = eda_user['friends_number'].describe()\n",
    "\n",
    "# Conteo de valores únicos en friends_number\n",
    "value_counts = eda_user['friends_number'].value_counts().head()\n",
    "\n",
    "\n"
   ]
  },
  {
   "cell_type": "markdown",
   "metadata": {},
   "source": [
    "Esta función encuentra los valores únicos en el conjunto de datos"
   ]
  },
  {
   "cell_type": "code",
   "execution_count": null,
   "metadata": {},
   "outputs": [],
   "source": [
    "def find_unique_values(data):\n",
    "    unique_values_dict = {}\n",
    "\n",
    "    columns = data.columns\n",
    "    for column in columns:\n",
    "        unique_values = data[column].unique()\n",
    "        unique_values_dict[column] = unique_values\n",
    "\n",
    "    return unique_values_dict"
   ]
  },
  {
   "cell_type": "markdown",
   "metadata": {},
   "source": [
    "Esta función funciona para obtener tipos de datos en cada columna"
   ]
  },
  {
   "cell_type": "code",
   "execution_count": null,
   "metadata": {},
   "outputs": [],
   "source": [
    "\n",
    "def get_column_data_types(dataset):\n",
    "    # Diccionario para almacenar los tipos de datos\n",
    "    types_dict = {}\n",
    "    \n",
    "    # Obtener las columnas del conjunto de datos\n",
    "    columns = dataset.columns\n",
    "    \n",
    "    # Iterar a través de cada columna\n",
    "    for col in columns:\n",
    "        types_dict[col] = set()\n",
    "        for value in dataset[col]:\n",
    "            types_dict[col].add(type(value))\n",
    "    return types_dict"
   ]
  },
  {
   "cell_type": "code",
   "execution_count": null,
   "metadata": {},
   "outputs": [],
   "source": [
    "# Llamada a la función get_column_data_types para encontrar tipos de datos\n",
    "data_types_result = get_column_data_types(user)"
   ]
  }
 ],
 "metadata": {
  "language_info": {
   "name": "python"
  },
  "orig_nbformat": 4
 },
 "nbformat": 4,
 "nbformat_minor": 2
}
