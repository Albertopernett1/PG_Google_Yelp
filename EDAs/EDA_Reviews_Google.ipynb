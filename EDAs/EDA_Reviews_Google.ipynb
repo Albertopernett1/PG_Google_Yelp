{
 "cells": [
  {
   "cell_type": "markdown",
   "metadata": {},
   "source": [
    "##  EDA (Reviews de States de Google)"
   ]
  },
  {
   "cell_type": "code",
   "execution_count": 1,
   "metadata": {},
   "outputs": [],
   "source": [
    "# # Importamos las bibliotecas necesarias\n",
    "import findspark\n",
    "findspark.init()\n",
    "import pyspark\n",
    "findspark.find()\n",
    "import os"
   ]
  },
  {
   "cell_type": "code",
   "execution_count": 2,
   "metadata": {},
   "outputs": [],
   "source": [
    "# Importamos las bibliotecas necesarias para Koalas y definir alias\n",
    "from functools import reduce\n",
    "from pyspark.sql import functions as F\n",
    "from pyspark import SparkContext, SparkConf\n",
    "from pyspark.sql import SparkSession\n",
    "conf = pyspark.SparkConf().setAppName('appName').setMaster('local')\n",
    "sc = pyspark.SparkContext(conf=conf)\n",
    "spark = SparkSession(sc)"
   ]
  },
  {
   "cell_type": "code",
   "execution_count": 3,
   "metadata": {},
   "outputs": [
    {
     "data": {
      "text/html": [
       "\n",
       "            <div>\n",
       "                <p><b>SparkSession - in-memory</b></p>\n",
       "                \n",
       "        <div>\n",
       "            <p><b>SparkContext</b></p>\n",
       "\n",
       "            <p><a href=\"http://DESKTOP-6EESO67:4040\">Spark UI</a></p>\n",
       "\n",
       "            <dl>\n",
       "              <dt>Version</dt>\n",
       "                <dd><code>v3.4.1</code></dd>\n",
       "              <dt>Master</dt>\n",
       "                <dd><code>local</code></dd>\n",
       "              <dt>AppName</dt>\n",
       "                <dd><code>appName</code></dd>\n",
       "            </dl>\n",
       "        </div>\n",
       "        \n",
       "            </div>\n",
       "        "
      ],
      "text/plain": [
       "<pyspark.sql.session.SparkSession at 0x22e10ee3b20>"
      ]
     },
     "execution_count": 3,
     "metadata": {},
     "output_type": "execute_result"
    }
   ],
   "source": [
    "# Inicializamos la sesión de Spark\n",
    "spark"
   ]
  },
  {
   "cell_type": "code",
   "execution_count": 4,
   "metadata": {},
   "outputs": [],
   "source": [
    "# Importamos la biblioteca para Koalas\n",
    "import collections.abc\n",
    "collections.Iterable = collections.abc.Iterable\n",
    "collections.Mapping = collections.abc.Mapping\n",
    "collections.MutableSet = collections.abc.MutableSet\n",
    "collections.MutableMapping = collections.abc.MutableMapping\n",
    "collections.Callable = collections.abc.Callable\n",
    "\n",
    "import databricks.koalas as ks"
   ]
  },
  {
   "cell_type": "code",
   "execution_count": 5,
   "metadata": {},
   "outputs": [],
   "source": [
    "# Se define una función para leer archivos Parquet y convertirlos a DataFrames de Koalas\n",
    "def read_parquet_files(directory, estado):\n",
    "    dataframes_koalas = []\n",
    "\n",
    "    for archivo in os.listdir(directory):\n",
    "        if archivo.endswith('.parquet'):\n",
    "            ruta_archivo = os.path.join(directory, archivo)\n",
    "            df_spark = spark.read.parquet(ruta_archivo)\n",
    "            df_koalas = ks.DataFrame(df_spark)  # Convertimos a DataFrame de Koalas\n",
    "            df_koalas['state'] = estado  # Agregamos la columna \"Estado\"\n",
    "            dataframes_koalas.append(df_koalas)\n",
    "\n",
    "    return ks.concat(dataframes_koalas, ignore_index=True)\n",
    "\n",
    "# Directorios de los estados\n",
    "directorio_California = r'C:\\Escritorio\\PF\\states_reviews\\states_reviews\\review-California'\n",
    "directorio_Florida = r'C:\\Escritorio\\PF\\states_reviews\\states_reviews\\review-Florida'\n",
    "directorio_Illinois = r'C:\\Escritorio\\PF\\states_reviews\\states_reviews\\review-Illinois'\n",
    "directorio_New_York = r'C:\\Escritorio\\PF\\states_reviews\\states_reviews\\review-New_York'\n",
    "directorio_Texas = r'C:\\Escritorio\\PF\\states_reviews\\states_reviews\\review-Texas'\n",
    "\n",
    "# Leer y concatenar los DataFrames para cada estado\n",
    "df_California = read_parquet_files(directorio_California, 'California')\n",
    "df_Florida = read_parquet_files(directorio_Florida, 'Florida')\n",
    "df_Illinois = read_parquet_files(directorio_Illinois, 'Illinois')\n",
    "df_New_York = read_parquet_files(directorio_New_York, 'New York')\n",
    "df_Texas = read_parquet_files(directorio_Texas, 'Texas')"
   ]
  },
  {
   "cell_type": "code",
   "execution_count": 6,
   "metadata": {},
   "outputs": [
    {
     "data": {
      "text/html": [
       "<div>\n",
       "<style scoped>\n",
       "    .dataframe tbody tr th:only-of-type {\n",
       "        vertical-align: middle;\n",
       "    }\n",
       "\n",
       "    .dataframe tbody tr th {\n",
       "        vertical-align: top;\n",
       "    }\n",
       "\n",
       "    .dataframe thead th {\n",
       "        text-align: right;\n",
       "    }\n",
       "</style>\n",
       "<table border=\"1\" class=\"dataframe\">\n",
       "  <thead>\n",
       "    <tr style=\"text-align: right;\">\n",
       "      <th></th>\n",
       "      <th>user_id</th>\n",
       "      <th>name</th>\n",
       "      <th>time</th>\n",
       "      <th>rating</th>\n",
       "      <th>text</th>\n",
       "      <th>pics</th>\n",
       "      <th>resp</th>\n",
       "      <th>gmap_id</th>\n",
       "      <th>state</th>\n",
       "    </tr>\n",
       "  </thead>\n",
       "  <tbody>\n",
       "    <tr>\n",
       "      <th>0</th>\n",
       "      <td>108991152262655788985</td>\n",
       "      <td>Song Ro</td>\n",
       "      <td>1609909927056</td>\n",
       "      <td>5</td>\n",
       "      <td>Love there korean rice cake.</td>\n",
       "      <td>None</td>\n",
       "      <td>None</td>\n",
       "      <td>0x80c2c778e3b73d33:0xbdc58662a4a97d49</td>\n",
       "      <td>California</td>\n",
       "    </tr>\n",
       "    <tr>\n",
       "      <th>1</th>\n",
       "      <td>111290322219796215751</td>\n",
       "      <td>Rafa Robles</td>\n",
       "      <td>1612849648663</td>\n",
       "      <td>5</td>\n",
       "      <td>Good very good</td>\n",
       "      <td>None</td>\n",
       "      <td>None</td>\n",
       "      <td>0x80c2c778e3b73d33:0xbdc58662a4a97d49</td>\n",
       "      <td>California</td>\n",
       "    </tr>\n",
       "    <tr>\n",
       "      <th>2</th>\n",
       "      <td>112640357449611959087</td>\n",
       "      <td>David Han</td>\n",
       "      <td>1583643882296</td>\n",
       "      <td>4</td>\n",
       "      <td>They make Korean traditional food very properly.</td>\n",
       "      <td>None</td>\n",
       "      <td>None</td>\n",
       "      <td>0x80c2c778e3b73d33:0xbdc58662a4a97d49</td>\n",
       "      <td>California</td>\n",
       "    </tr>\n",
       "    <tr>\n",
       "      <th>3</th>\n",
       "      <td>117440349723823658676</td>\n",
       "      <td>Anthony Kim</td>\n",
       "      <td>1551938216355</td>\n",
       "      <td>5</td>\n",
       "      <td>Short ribs are very delicious.</td>\n",
       "      <td>None</td>\n",
       "      <td>None</td>\n",
       "      <td>0x80c2c778e3b73d33:0xbdc58662a4a97d49</td>\n",
       "      <td>California</td>\n",
       "    </tr>\n",
       "    <tr>\n",
       "      <th>4</th>\n",
       "      <td>100580770836123539210</td>\n",
       "      <td>Mario Marzouk</td>\n",
       "      <td>1494910901933</td>\n",
       "      <td>5</td>\n",
       "      <td>Great food and prices the portions are large</td>\n",
       "      <td>None</td>\n",
       "      <td>None</td>\n",
       "      <td>0x80c2c778e3b73d33:0xbdc58662a4a97d49</td>\n",
       "      <td>California</td>\n",
       "    </tr>\n",
       "  </tbody>\n",
       "</table>\n",
       "</div>"
      ],
      "text/plain": [
       "                 user_id           name           time  rating                                              text  pics  resp                                gmap_id       state\n",
       "0  108991152262655788985        Song Ro  1609909927056       5                      Love there korean rice cake.  None  None  0x80c2c778e3b73d33:0xbdc58662a4a97d49  California\n",
       "1  111290322219796215751    Rafa Robles  1612849648663       5                                    Good very good  None  None  0x80c2c778e3b73d33:0xbdc58662a4a97d49  California\n",
       "2  112640357449611959087      David Han  1583643882296       4  They make Korean traditional food very properly.  None  None  0x80c2c778e3b73d33:0xbdc58662a4a97d49  California\n",
       "3  117440349723823658676    Anthony Kim  1551938216355       5                    Short ribs are very delicious.  None  None  0x80c2c778e3b73d33:0xbdc58662a4a97d49  California\n",
       "4  100580770836123539210  Mario Marzouk  1494910901933       5      Great food and prices the portions are large  None  None  0x80c2c778e3b73d33:0xbdc58662a4a97d49  California"
      ]
     },
     "execution_count": 6,
     "metadata": {},
     "output_type": "execute_result"
    }
   ],
   "source": [
    "# Concatenamos los DataFrames de los estados en uno solo\n",
    "df_reviews_top_5 = ks.concat([df_California, df_Florida, df_Illinois, df_New_York, df_Texas])\n",
    "df_reviews_top_5.head()"
   ]
  },
  {
   "cell_type": "code",
   "execution_count": 7,
   "metadata": {},
   "outputs": [
    {
     "data": {
      "text/plain": [
       "11746824"
      ]
     },
     "execution_count": 7,
     "metadata": {},
     "output_type": "execute_result"
    }
   ],
   "source": [
    "# Obtenemos la longitud del DataFrame\n",
    "len(df_reviews_top_5)"
   ]
  },
  {
   "cell_type": "code",
   "execution_count": 8,
   "metadata": {},
   "outputs": [
    {
     "data": {
      "text/plain": [
       "user_id           0\n",
       "name              0\n",
       "time              0\n",
       "rating            0\n",
       "text        4870400\n",
       "pics       11348752\n",
       "resp       10246105\n",
       "gmap_id           0\n",
       "state             0\n",
       "Name: 0, dtype: int64"
      ]
     },
     "execution_count": 8,
     "metadata": {},
     "output_type": "execute_result"
    }
   ],
   "source": [
    "# Controlamos valores nulos en el DataFrame\n",
    "df_reviews_top_5.isnull().sum()"
   ]
  },
  {
   "cell_type": "code",
   "execution_count": 9,
   "metadata": {},
   "outputs": [],
   "source": [
    "# Creamos un nuevo DataFrame eliminando columnas específicas\n",
    "df_reviews_top_5_clean = df_reviews_top_5.drop(columns=['text', 'pics', 'resp'])"
   ]
  },
  {
   "cell_type": "code",
   "execution_count": 10,
   "metadata": {},
   "outputs": [
    {
     "data": {
      "text/html": [
       "<div>\n",
       "<style scoped>\n",
       "    .dataframe tbody tr th:only-of-type {\n",
       "        vertical-align: middle;\n",
       "    }\n",
       "\n",
       "    .dataframe tbody tr th {\n",
       "        vertical-align: top;\n",
       "    }\n",
       "\n",
       "    .dataframe thead th {\n",
       "        text-align: right;\n",
       "    }\n",
       "</style>\n",
       "<table border=\"1\" class=\"dataframe\">\n",
       "  <thead>\n",
       "    <tr style=\"text-align: right;\">\n",
       "      <th></th>\n",
       "      <th>user_id</th>\n",
       "      <th>name</th>\n",
       "      <th>time</th>\n",
       "      <th>rating</th>\n",
       "      <th>gmap_id</th>\n",
       "      <th>state</th>\n",
       "    </tr>\n",
       "  </thead>\n",
       "  <tbody>\n",
       "    <tr>\n",
       "      <th>0</th>\n",
       "      <td>108991152262655788985</td>\n",
       "      <td>Song Ro</td>\n",
       "      <td>1609909927056</td>\n",
       "      <td>5</td>\n",
       "      <td>0x80c2c778e3b73d33:0xbdc58662a4a97d49</td>\n",
       "      <td>California</td>\n",
       "    </tr>\n",
       "    <tr>\n",
       "      <th>1</th>\n",
       "      <td>111290322219796215751</td>\n",
       "      <td>Rafa Robles</td>\n",
       "      <td>1612849648663</td>\n",
       "      <td>5</td>\n",
       "      <td>0x80c2c778e3b73d33:0xbdc58662a4a97d49</td>\n",
       "      <td>California</td>\n",
       "    </tr>\n",
       "    <tr>\n",
       "      <th>2</th>\n",
       "      <td>112640357449611959087</td>\n",
       "      <td>David Han</td>\n",
       "      <td>1583643882296</td>\n",
       "      <td>4</td>\n",
       "      <td>0x80c2c778e3b73d33:0xbdc58662a4a97d49</td>\n",
       "      <td>California</td>\n",
       "    </tr>\n",
       "    <tr>\n",
       "      <th>3</th>\n",
       "      <td>117440349723823658676</td>\n",
       "      <td>Anthony Kim</td>\n",
       "      <td>1551938216355</td>\n",
       "      <td>5</td>\n",
       "      <td>0x80c2c778e3b73d33:0xbdc58662a4a97d49</td>\n",
       "      <td>California</td>\n",
       "    </tr>\n",
       "    <tr>\n",
       "      <th>4</th>\n",
       "      <td>100580770836123539210</td>\n",
       "      <td>Mario Marzouk</td>\n",
       "      <td>1494910901933</td>\n",
       "      <td>5</td>\n",
       "      <td>0x80c2c778e3b73d33:0xbdc58662a4a97d49</td>\n",
       "      <td>California</td>\n",
       "    </tr>\n",
       "  </tbody>\n",
       "</table>\n",
       "</div>"
      ],
      "text/plain": [
       "                 user_id           name           time  rating                                gmap_id       state\n",
       "0  108991152262655788985        Song Ro  1609909927056       5  0x80c2c778e3b73d33:0xbdc58662a4a97d49  California\n",
       "1  111290322219796215751    Rafa Robles  1612849648663       5  0x80c2c778e3b73d33:0xbdc58662a4a97d49  California\n",
       "2  112640357449611959087      David Han  1583643882296       4  0x80c2c778e3b73d33:0xbdc58662a4a97d49  California\n",
       "3  117440349723823658676    Anthony Kim  1551938216355       5  0x80c2c778e3b73d33:0xbdc58662a4a97d49  California\n",
       "4  100580770836123539210  Mario Marzouk  1494910901933       5  0x80c2c778e3b73d33:0xbdc58662a4a97d49  California"
      ]
     },
     "execution_count": 10,
     "metadata": {},
     "output_type": "execute_result"
    }
   ],
   "source": [
    "# Mostramos las primeras filas del DataFrame limpio\n",
    "df_reviews_top_5_clean.head()"
   ]
  },
  {
   "cell_type": "code",
   "execution_count": 11,
   "metadata": {},
   "outputs": [
    {
     "data": {
      "text/html": [
       "<div>\n",
       "<style scoped>\n",
       "    .dataframe tbody tr th:only-of-type {\n",
       "        vertical-align: middle;\n",
       "    }\n",
       "\n",
       "    .dataframe tbody tr th {\n",
       "        vertical-align: top;\n",
       "    }\n",
       "\n",
       "    .dataframe thead th {\n",
       "        text-align: right;\n",
       "    }\n",
       "</style>\n",
       "<table border=\"1\" class=\"dataframe\">\n",
       "  <thead>\n",
       "    <tr style=\"text-align: right;\">\n",
       "      <th></th>\n",
       "      <th>user_id</th>\n",
       "      <th>name</th>\n",
       "      <th>time</th>\n",
       "      <th>rating</th>\n",
       "      <th>gmap_id</th>\n",
       "      <th>state</th>\n",
       "    </tr>\n",
       "  </thead>\n",
       "  <tbody>\n",
       "    <tr>\n",
       "      <th>1812280</th>\n",
       "      <td>100000019059943251257</td>\n",
       "      <td>Jim Hajek</td>\n",
       "      <td>1532172902488</td>\n",
       "      <td>5</td>\n",
       "      <td>0x880fd36b093a9a07:0x940cc06f90294db</td>\n",
       "      <td>Illinois</td>\n",
       "    </tr>\n",
       "    <tr>\n",
       "      <th>1418443</th>\n",
       "      <td>100000019059943251257</td>\n",
       "      <td>Jim Hajek</td>\n",
       "      <td>1542748194590</td>\n",
       "      <td>5</td>\n",
       "      <td>0x880e4cae16c03f93:0x8ad15acaf8ffd496</td>\n",
       "      <td>Illinois</td>\n",
       "    </tr>\n",
       "    <tr>\n",
       "      <th>466029</th>\n",
       "      <td>100000020623254171349</td>\n",
       "      <td>Zachary Kular</td>\n",
       "      <td>1498657367260</td>\n",
       "      <td>4</td>\n",
       "      <td>0x880fab1b8261c301:0xc13854f55b0feec4</td>\n",
       "      <td>Illinois</td>\n",
       "    </tr>\n",
       "    <tr>\n",
       "      <th>1792773</th>\n",
       "      <td>100000020623254171349</td>\n",
       "      <td>Zachary Kular</td>\n",
       "      <td>1558493360838</td>\n",
       "      <td>5</td>\n",
       "      <td>0x880e2de4633757b5:0x4679b7845e3ee752</td>\n",
       "      <td>Illinois</td>\n",
       "    </tr>\n",
       "    <tr>\n",
       "      <th>1735594</th>\n",
       "      <td>100000029979508209337</td>\n",
       "      <td>Raychel Perez</td>\n",
       "      <td>1593401857411</td>\n",
       "      <td>5</td>\n",
       "      <td>0x80eacb93b18677bb:0x6eb86c000772bf33</td>\n",
       "      <td>California</td>\n",
       "    </tr>\n",
       "  </tbody>\n",
       "</table>\n",
       "</div>"
      ],
      "text/plain": [
       "                       user_id           name           time  rating                                gmap_id       state\n",
       "1812280  100000019059943251257      Jim Hajek  1532172902488       5   0x880fd36b093a9a07:0x940cc06f90294db    Illinois\n",
       "1418443  100000019059943251257      Jim Hajek  1542748194590       5  0x880e4cae16c03f93:0x8ad15acaf8ffd496    Illinois\n",
       "466029   100000020623254171349  Zachary Kular  1498657367260       4  0x880fab1b8261c301:0xc13854f55b0feec4    Illinois\n",
       "1792773  100000020623254171349  Zachary Kular  1558493360838       5  0x880e2de4633757b5:0x4679b7845e3ee752    Illinois\n",
       "1735594  100000029979508209337  Raychel Perez  1593401857411       5  0x80eacb93b18677bb:0x6eb86c000772bf33  California"
      ]
     },
     "execution_count": 11,
     "metadata": {},
     "output_type": "execute_result"
    }
   ],
   "source": [
    "# Eliminamos las filas duplicadas en el DataFrame\n",
    "df_reviews_google_top_5 = df_reviews_top_5_clean.drop_duplicates()\n",
    "df_reviews_google_top_5.head()"
   ]
  },
  {
   "cell_type": "code",
   "execution_count": 12,
   "metadata": {},
   "outputs": [
    {
     "data": {
      "text/plain": [
       "11392427"
      ]
     },
     "execution_count": 12,
     "metadata": {},
     "output_type": "execute_result"
    }
   ],
   "source": [
    "# Obtenemos la longitud del nuevo DataFrame sin duplicados\n",
    "len(df_reviews_google_top_5)"
   ]
  },
  {
   "cell_type": "code",
   "execution_count": 13,
   "metadata": {},
   "outputs": [
    {
     "name": "stdout",
     "output_type": "stream",
     "text": [
      "[5, 1, 3, 2, 4]\n"
     ]
    }
   ],
   "source": [
    "# Controlamos que en el rating no haya valores outliers\n",
    "unique_ratings = df_reviews_google_top_5[\"rating\"].unique().to_list()\n",
    "print(unique_ratings)"
   ]
  },
  {
   "cell_type": "code",
   "execution_count": 14,
   "metadata": {},
   "outputs": [],
   "source": [
    "# Ruta para guardar el archivo Parquet\n",
    "ruta_exportacion = 'C:/Escritorio/PF/states_reviews/reviews_estados_elegidos.parquet'\n",
    "\n",
    "# Exportamos el DataFrame a formato Parquet con pandas\n",
    "df_reviews_google_top_5.to_parquet(ruta_exportacion, engine='pyarrow', compression='snappy')"
   ]
  }
 ],
 "metadata": {
  "kernelspec": {
   "display_name": "Python 3",
   "language": "python",
   "name": "python3"
  },
  "language_info": {
   "codemirror_mode": {
    "name": "ipython",
    "version": 3
   },
   "file_extension": ".py",
   "mimetype": "text/x-python",
   "name": "python",
   "nbconvert_exporter": "python",
   "pygments_lexer": "ipython3",
   "version": "3.10.11"
  },
  "orig_nbformat": 4
 },
 "nbformat": 4,
 "nbformat_minor": 2
}
