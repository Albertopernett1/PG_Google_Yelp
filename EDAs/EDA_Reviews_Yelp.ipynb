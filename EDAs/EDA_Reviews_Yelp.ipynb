{
 "cells": [
  {
   "cell_type": "markdown",
   "metadata": {},
   "source": [
    "## Yelp Reviews EDA"
   ]
  },
  {
   "cell_type": "code",
   "execution_count": 1,
   "metadata": {},
   "outputs": [
    {
     "data": {
      "text/plain": [
       "'C:\\\\Spark'"
      ]
     },
     "execution_count": 1,
     "metadata": {},
     "output_type": "execute_result"
    }
   ],
   "source": [
    "# Encuentra la ubicacion de spark\n",
    "import findspark\n",
    "findspark.init()\n",
    "import pyspark\n",
    "findspark.find()"
   ]
  },
  {
   "cell_type": "code",
   "execution_count": 2,
   "metadata": {},
   "outputs": [],
   "source": [
    "# Inicia la sesion de spark\n",
    "from pyspark import SparkContext, SparkConf\n",
    "from pyspark.sql import SparkSession\n",
    "conf = pyspark.SparkConf().setAppName('appName').setMaster('local')\n",
    "sc = pyspark.SparkContext(conf=conf)\n",
    "spark = SparkSession(sc)"
   ]
  },
  {
   "cell_type": "code",
   "execution_count": 3,
   "metadata": {},
   "outputs": [
    {
     "data": {
      "text/html": [
       "\n",
       "            <div>\n",
       "                <p><b>SparkSession - in-memory</b></p>\n",
       "                \n",
       "        <div>\n",
       "            <p><b>SparkContext</b></p>\n",
       "\n",
       "            <p><a href=\"http://DESKTOP-J8U3NTT:4040\">Spark UI</a></p>\n",
       "\n",
       "            <dl>\n",
       "              <dt>Version</dt>\n",
       "                <dd><code>v3.4.1</code></dd>\n",
       "              <dt>Master</dt>\n",
       "                <dd><code>local</code></dd>\n",
       "              <dt>AppName</dt>\n",
       "                <dd><code>appName</code></dd>\n",
       "            </dl>\n",
       "        </div>\n",
       "        \n",
       "            </div>\n",
       "        "
      ],
      "text/plain": [
       "<pyspark.sql.session.SparkSession at 0x265ffd99910>"
      ]
     },
     "execution_count": 3,
     "metadata": {},
     "output_type": "execute_result"
    }
   ],
   "source": [
    "spark"
   ]
  },
  {
   "cell_type": "code",
   "execution_count": 4,
   "metadata": {},
   "outputs": [
    {
     "name": "stderr",
     "output_type": "stream",
     "text": [
      "WARNING:root:Found pyspark version \"3.4.1\" installed. The pyspark version 3.2 and above has a built-in \"pandas APIs on Spark\" module ported from Koalas. Try `import pyspark.pandas as ps` instead. \n",
      "WARNING:root:'PYARROW_IGNORE_TIMEZONE' environment variable was not set. It is required to set this environment variable to '1' in both driver and executor sides if you use pyarrow>=2.0.0. Koalas will set it for you but it does not work if there is a Spark context already launched.\n"
     ]
    }
   ],
   "source": [
    "import databricks.koalas as ks\n",
    "import os"
   ]
  },
  {
   "cell_type": "code",
   "execution_count": 5,
   "metadata": {},
   "outputs": [],
   "source": [
    "# Lectura de datos y transformacion a koalas\n",
    "df_spark = spark.read.load(r'D:\\Proyecto Integrador\\Yelp\\review-002.json', format='json', inferSchema=True)\n",
    "df = df_spark.to_koalas()"
   ]
  },
  {
   "cell_type": "code",
   "execution_count": 6,
   "metadata": {},
   "outputs": [
    {
     "name": "stderr",
     "output_type": "stream",
     "text": [
      "C:\\Users\\Matías Tejerina\\AppData\\Roaming\\Python\\Python39\\site-packages\\databricks\\koalas\\internal.py:1430: FutureWarning: iteritems is deprecated and will be removed in a future version. Use .items instead.\n",
      "  for name, col in reset_index.iteritems():\n",
      "C:\\Users\\Matías Tejerina\\AppData\\Roaming\\Python\\Python39\\site-packages\\databricks\\koalas\\internal.py:1356: FutureWarning: iteritems is deprecated and will be removed in a future version. Use .items instead.\n",
      "  [\n"
     ]
    },
    {
     "name": "stdout",
     "output_type": "stream",
     "text": [
      "<class 'databricks.koalas.frame.DataFrame'>\n",
      "Int64Index: 6990280 entries, 0 to 6990279\n",
      "Data columns (total 9 columns):\n",
      " #   Column       Non-Null Count    Dtype  \n",
      "---  ------       --------------    -----  \n",
      " 0   business_id  6990280 non-null  object \n",
      " 1   cool         6990280 non-null  int64  \n",
      " 2   date         6990280 non-null  object \n",
      " 3   funny        6990280 non-null  int64  \n",
      " 4   review_id    6990280 non-null  object \n",
      " 5   stars        6990280 non-null  float64\n",
      " 6   text         6990280 non-null  object \n",
      " 7   useful       6990280 non-null  int64  \n",
      " 8   user_id      6990280 non-null  object \n",
      "dtypes: float64(1), int64(3), object(5)"
     ]
    }
   ],
   "source": [
    "# Informacion sobre las columnas\n",
    "df.info()"
   ]
  },
  {
   "cell_type": "code",
   "execution_count": 7,
   "metadata": {},
   "outputs": [
    {
     "data": {
      "text/plain": [
       "0"
      ]
     },
     "execution_count": 7,
     "metadata": {},
     "output_type": "execute_result"
    }
   ],
   "source": [
    "# Control de duplicados\n",
    "df.duplicated().sum()"
   ]
  },
  {
   "cell_type": "code",
   "execution_count": 8,
   "metadata": {},
   "outputs": [
    {
     "name": "stdout",
     "output_type": "stream",
     "text": [
      "+--------------------+----+-------------------+-----+--------------------+-----+--------------------+------+--------------------+\n",
      "|         business_id|cool|               date|funny|           review_id|stars|                text|useful|             user_id|\n",
      "+--------------------+----+-------------------+-----+--------------------+-----+--------------------+------+--------------------+\n",
      "|XQfwVwDr-v0ZS3_Cb...|   0|2018-07-07 22:09:11|    0|KU_O5udG6zpxOg-Vc...|  3.0|If you decide to ...|     0|mh_-eMZ6K5RLWhZyI...|\n",
      "|7ATYjTIgM3jUlt4UM...|   1|2012-01-03 15:28:18|    0|BiTunyQ73aT9WBnpR...|  5.0|I've taken a lot ...|     1|OyoGAe7OKpv6SyGZT...|\n",
      "|YjUWPpI6HXG530lwP...|   0|2014-02-05 20:30:30|    0|saUsX_uimxRlCVr67...|  3.0|Family diner. Had...|     0|8g_iMtfSiwikVnbP2...|\n",
      "|kxX2SOes4o-D3ZQBk...|   1|2015-01-04 00:01:03|    0|AqPFMleE6RsU23_au...|  5.0|Wow!  Yummy, diff...|     1|_7bHUi9Uuf5__HHc_...|\n",
      "|e4Vwtrqf-wpJfwesg...|   1|2017-01-14 20:54:15|    0|Sx8TMOWLNuJBWer-0...|  4.0|Cute interior and...|     1|bcjbaE6dDog4jkNY9...|\n",
      "|04UD14gamNjLY0IDY...|   1|2015-09-23 23:10:31|    2|JrIxlS1TzJ-iCu79u...|  1.0|I am a long term ...|     1|eUta8W_HdHMXPzLBB...|\n",
      "|gmjsEdUsKpj9Xxu6p...|   0|2015-01-03 23:21:18|    2|6AxgBCNX_PNTOxmbR...|  5.0|Loved this tour! ...|     0|r3zeYsv1XFBRA4dJp...|\n",
      "|LHSTtnW3YHCeUkRDG...|   0|2015-08-07 02:29:16|    0|_ZeMknuYdlQcUqng_...|  5.0|Amazingly amazing...|     2|yfFzsLmaWF2d4Sr0U...|\n",
      "|B5XSoSG3SfvQGtKEG...|   0|2016-03-30 22:46:33|    1|ZKvDG2sBvHVdF5oBN...|  3.0|This easter inste...|     1|wSTuiTk-sKNdcFypr...|\n",
      "|gebiRewfieSdtt17P...|   0|2016-07-25 07:31:06|    0|pUycOfUwM8vqX7KjR...|  3.0|Had a party of 6 ...|     0|59MxRhNVhU9MYndMk...|\n",
      "|uMvVYRgGNXf5boolA...|   0|2015-06-21 14:48:06|    0|rGQRf8UafX7OTlMNN...|  5.0|My experience wit...|     2|1WHRWwQmZOZDAhp2Q...|\n",
      "|EQ-TZ2eeD_E0BHuvo...|   0|2015-08-19 14:31:45|    0|l3Wk_mvAog6XANIuG...|  4.0|Locals recommende...|     0|ZbqSHbgCjzVAqaa7N...|\n",
      "|lj-E32x9_FA7GmUrB...|   0|2014-06-27 22:44:01|    0|XW_LfMv0fV21l9c6x...|  4.0|Love going here f...|     0|9OAtfnWag-ajVxRbU...|\n",
      "|RZtGWDLCAtuipwaZ-...|   0|2009-10-14 19:57:14|    0|8JFGBuHMoiNDyfcxu...|  4.0|Good food--loved ...|     0|smOvOajNG0lS4Pq7d...|\n",
      "|otQS34_MymijPTdNB...|   0|2011-10-27 17:12:05|    2|UBp0zWyH60Hmw6Fsa...|  4.0|The bun makes the...|     0|4Uh27DgGzsp6PqrH9...|\n",
      "|BVndHaLihEYbr76Z0...|   0|2014-10-11 16:22:06|    0|OAhBYw8IQ6wlfw1ow...|  5.0|Great place for b...|     0|1C2lxzUo1Hyye4RFI...|\n",
      "|YtSqYv1Q_pOltsVPS...|   0|2013-06-24 11:21:25|    0|oyaMhzBSwfGgemSGu...|  5.0|Tremendous servic...|     0|Dd1jQj7S-BFGqRbAp...|\n",
      "|rBdG_23USc7DletfZ...|   0|2014-08-10 19:41:43|    0|LnGZB0fjfgeVDVz5I...|  4.0|The hubby and I h...|     1|j2wlzrntrbKwyOcOi...|\n",
      "|CLEWowfkj-wKYJlQD...|   1|2016-03-07 00:02:18|    0|u2vzZaOqJ2feRshaa...|  5.0|I go to blow bar ...|     2|NDZvyYHTUWWu-kqgQ...|\n",
      "|eFvzHawVJofxSnD7T...|   0|2014-11-12 15:30:27|    0|Xs8Z8lmKkosqW5mw_...|  5.0|My absolute favor...|     0|IQsF3Rc6IgCzjVV9D...|\n",
      "+--------------------+----+-------------------+-----+--------------------+-----+--------------------+------+--------------------+\n",
      "only showing top 20 rows\n",
      "\n"
     ]
    }
   ],
   "source": [
    "# Visualizacion del dataframe con spark\n",
    "df_spark.show()"
   ]
  },
  {
   "cell_type": "code",
   "execution_count": 9,
   "metadata": {},
   "outputs": [
    {
     "name": "stdout",
     "output_type": "stream",
     "text": [
      "root\n",
      " |-- business_id: string (nullable = true)\n",
      " |-- cool: long (nullable = true)\n",
      " |-- date: string (nullable = true)\n",
      " |-- funny: long (nullable = true)\n",
      " |-- review_id: string (nullable = true)\n",
      " |-- stars: double (nullable = true)\n",
      " |-- text: string (nullable = true)\n",
      " |-- useful: long (nullable = true)\n",
      " |-- user_id: string (nullable = true)\n",
      "\n"
     ]
    }
   ],
   "source": [
    "# Informacion sobre las columnas\n",
    "df_spark.printSchema()"
   ]
  },
  {
   "cell_type": "code",
   "execution_count": 10,
   "metadata": {},
   "outputs": [
    {
     "name": "stdout",
     "output_type": "stream",
     "text": [
      "+-------+--------------------+------------------+-------------------+-------------------+--------------------+------------------+----------------------+------------------+--------------------+\n",
      "|summary|         business_id|              cool|               date|              funny|           review_id|             stars|                  text|            useful|             user_id|\n",
      "+-------+--------------------+------------------+-------------------+-------------------+--------------------+------------------+----------------------+------------------+--------------------+\n",
      "|  count|             6990280|           6990280|            6990280|            6990280|             6990280|           6990280|               6990280|           6990280|             6990280|\n",
      "|   mean|                null|0.4986175088837643|               null|0.32655959417934616|                null|  3.74858374771826|                  null|1.1846089140921394|                null|\n",
      "| stddev|                null|2.1724598202111864|               null| 1.6887290985540495|                null|1.4787045052556855|                  null| 3.253766966933363|                null|\n",
      "|    min|---kPU91CF4Lq2-Wl...|                -1|2005-02-16 03:23:22|                 -1|---4VcQZzy_vIIifU...|               1.0|  !\\nMilk Bar is po...|                -1|---1lKK3aKOuomHnw...|\n",
      "|    max|zzyx5x0Z7xXWWvWnZ...|               404|2022-01-19 19:48:45|                792|zzzz1ADBqBEVyfX4l...|               5.0|＼(^o^)／\\nThey hav...|              1182|zzzUFM4HFe0SFG0bP...|\n",
      "+-------+--------------------+------------------+-------------------+-------------------+--------------------+------------------+----------------------+------------------+--------------------+\n",
      "\n"
     ]
    }
   ],
   "source": [
    "# Estadisticas descriptivas del dataframe con spark\n",
    "df_spark.describe().show()"
   ]
  },
  {
   "cell_type": "code",
   "execution_count": 11,
   "metadata": {},
   "outputs": [
    {
     "data": {
      "text/plain": [
       "6990280"
      ]
     },
     "execution_count": 11,
     "metadata": {},
     "output_type": "execute_result"
    }
   ],
   "source": [
    "# Longitud del dataframe\n",
    "df_spark.count()"
   ]
  },
  {
   "cell_type": "markdown",
   "metadata": {},
   "source": [
    "## Analisis por columna"
   ]
  },
  {
   "cell_type": "markdown",
   "metadata": {},
   "source": [
    "Columna \"business_id\""
   ]
  },
  {
   "cell_type": "code",
   "execution_count": 12,
   "metadata": {},
   "outputs": [
    {
     "data": {
      "text/plain": [
       "150346"
      ]
     },
     "execution_count": 12,
     "metadata": {},
     "output_type": "execute_result"
    }
   ],
   "source": [
    "# Cantidad de negocios con reviews\n",
    "len(df.business_id.unique())"
   ]
  },
  {
   "cell_type": "code",
   "execution_count": 13,
   "metadata": {},
   "outputs": [
    {
     "data": {
      "text/plain": [
       "_ab50qdWOk0DdB6XOrBitw    7673\n",
       "ac1AeYqs8Z4_e2X5M3if2A    7516\n",
       "GXFMD0Z4jEVZBCsbPf4CTQ    6160\n",
       "ytynqOUb3hjKeJfRj5Tshw    5778\n",
       "oBNrLz4EDhiscSlbOl8uAw    5264\n",
       "iSRTaT9WngzB8JJ2YKJUig    5254\n",
       "VQcCL9PiNL_wkGf-uF3fjg    5146\n",
       "_C7QiQQc47AOEv4PE3Kong    4969\n",
       "GBTPC53ZrG1ZBY3DT8Mbcw    4661\n",
       "6a4gLLFSgr-Q6CZXDLzBGQ    4480\n",
       "PP3BBaVxZLcJU54uP_wL6Q    4293\n",
       "1b5mnK8bMnnju_cvU65GqQ    4247\n",
       "I_3LMZ_1m2mzR0oLIOePIg    4093\n",
       "VaO-VW3e1kARkU9bP1E7Fw    4034\n",
       "qb28j-FNX1_6xm7u372TZA    3971\n",
       "gTC8IQ_i8zXytWSly3Ttvg    3917\n",
       "yPSejq3_erxo9zdVYTBnZA    3889\n",
       "wz8ZPfySQczcPgSyd33-HQ    3634\n",
       "VVH6k9-ycttH3TV_lk5WfQ    3633\n",
       "IkY2ticzHEn4QFn8hQLSWg    3428\n",
       "Name: business_id, dtype: int64"
      ]
     },
     "execution_count": 13,
     "metadata": {},
     "output_type": "execute_result"
    }
   ],
   "source": [
    "# Top 20 negocios con mas reviews\n",
    "top20_business_reviews = df.business_id.value_counts().head(20)\n",
    "top20_business_reviews"
   ]
  },
  {
   "cell_type": "markdown",
   "metadata": {},
   "source": [
    "Columna 'review_id'"
   ]
  },
  {
   "cell_type": "code",
   "execution_count": 14,
   "metadata": {},
   "outputs": [
    {
     "data": {
      "text/plain": [
       "6990280"
      ]
     },
     "execution_count": 14,
     "metadata": {},
     "output_type": "execute_result"
    }
   ],
   "source": [
    "# Cantidad de reviews distintas\n",
    "len(df.review_id.unique())"
   ]
  },
  {
   "cell_type": "markdown",
   "metadata": {},
   "source": [
    "Columna 'user_id'"
   ]
  },
  {
   "cell_type": "code",
   "execution_count": 15,
   "metadata": {},
   "outputs": [
    {
     "data": {
      "text/plain": [
       "1987929"
      ]
     },
     "execution_count": 15,
     "metadata": {},
     "output_type": "execute_result"
    }
   ],
   "source": [
    "# Cantidad de usuarios distintos\n",
    "len(df.user_id.unique())"
   ]
  },
  {
   "cell_type": "code",
   "execution_count": 16,
   "metadata": {},
   "outputs": [
    {
     "data": {
      "text/plain": [
       "_BcWyKQL16ndpBdggh2kNA    3048\n",
       "Xw7ZjaGfr0WNVt6s_5KZfA    1840\n",
       "0Igx-a1wAstiBDerGxXk2A    1747\n",
       "-G7Zkl1wIWBBmD0KRy_sCw    1682\n",
       "ET8n-r7glWYqZhuR6GcdNw    1653\n",
       "bYENop4BuQepBjM1-BI3fA    1578\n",
       "1HM81n6n4iPIFU5d2Lokhw    1554\n",
       "fr1Hz2acAb3OaL3l6DyKNg    1447\n",
       "wXdbkFZsfDR7utJvbWElyA    1396\n",
       "Um5bfs5DH6eizgjH3xZsvg    1391\n",
       "qjfMBIZpQT9DDtw_BWCopQ    1324\n",
       "VL12EhEdT4OWqGq0nIqkzw    1308\n",
       "bJ5FtCtZX3ZZacz2_2PJjA    1298\n",
       "pou3BbKsIozfH50rxmnMew    1247\n",
       "ouODopBKF3AqfCkuQEnrDg    1129\n",
       "B-s-8VUnuBjGTP3d01jsyw    1087\n",
       "-kLVfaJytOJY2-QdQoCcNQ    1076\n",
       "vHc-UrI9yfL_pnnc6nJtyQ    1071\n",
       "CfX4sTIFFNaRchNswqhVfg    1047\n",
       "AHRrG3T1gJpHvtpZ-K0G_g    1041\n",
       "Name: user_id, dtype: int64"
      ]
     },
     "execution_count": 16,
     "metadata": {},
     "output_type": "execute_result"
    }
   ],
   "source": [
    "# Top 20 usuarios que mas reviews dejaron\n",
    "df.user_id.value_counts().head(20)"
   ]
  },
  {
   "cell_type": "code",
   "execution_count": 17,
   "metadata": {},
   "outputs": [
    {
     "data": {
      "text/plain": [
       "3.51636300894046"
      ]
     },
     "execution_count": 17,
     "metadata": {},
     "output_type": "execute_result"
    }
   ],
   "source": [
    "# Promedio de reviews por usuario\n",
    "df.user_id.value_counts().mean()"
   ]
  },
  {
   "cell_type": "code",
   "execution_count": 18,
   "metadata": {},
   "outputs": [
    {
     "data": {
      "text/plain": [
       "12.77087790086078"
      ]
     },
     "execution_count": 18,
     "metadata": {},
     "output_type": "execute_result"
    }
   ],
   "source": [
    "# Desviacion estandar de reviews por usuario\n",
    "df.user_id.value_counts().std()"
   ]
  },
  {
   "cell_type": "markdown",
   "metadata": {},
   "source": [
    "Columna 'date"
   ]
  },
  {
   "cell_type": "code",
   "execution_count": 19,
   "metadata": {},
   "outputs": [],
   "source": [
    "from datetime import datetime"
   ]
  },
  {
   "cell_type": "code",
   "execution_count": 20,
   "metadata": {},
   "outputs": [],
   "source": [
    "# Transforma a tipo datetime\n",
    "df.date = df.date.astype(datetime)"
   ]
  },
  {
   "cell_type": "code",
   "execution_count": 21,
   "metadata": {},
   "outputs": [
    {
     "name": "stderr",
     "output_type": "stream",
     "text": [
      "C:\\Spark\\python\\pyspark\\sql\\pandas\\conversion.py:251: FutureWarning: Passing unit-less datetime64 dtype to .astype is deprecated and will raise in a future version. Pass 'datetime64[ns]' instead\n",
      "  series = series.astype(t, copy=False)\n"
     ]
    },
    {
     "data": {
      "text/plain": [
       "Timestamp('2005-02-16 03:23:22')"
      ]
     },
     "execution_count": 21,
     "metadata": {},
     "output_type": "execute_result"
    }
   ],
   "source": [
    "# Encuentra la review mas antigua\n",
    "df.date.min()"
   ]
  },
  {
   "cell_type": "code",
   "execution_count": 22,
   "metadata": {},
   "outputs": [
    {
     "name": "stderr",
     "output_type": "stream",
     "text": [
      "C:\\Spark\\python\\pyspark\\sql\\pandas\\conversion.py:251: FutureWarning: Passing unit-less datetime64 dtype to .astype is deprecated and will raise in a future version. Pass 'datetime64[ns]' instead\n",
      "  series = series.astype(t, copy=False)\n"
     ]
    },
    {
     "data": {
      "text/plain": [
       "Timestamp('2022-01-19 19:48:45')"
      ]
     },
     "execution_count": 22,
     "metadata": {},
     "output_type": "execute_result"
    }
   ],
   "source": [
    "# Encuentra la review mas reciente\n",
    "df.date.max()"
   ]
  },
  {
   "cell_type": "markdown",
   "metadata": {},
   "source": [
    "Columna 'stars'"
   ]
  },
  {
   "cell_type": "code",
   "execution_count": 23,
   "metadata": {},
   "outputs": [
    {
     "data": {
      "text/plain": [
       "5.0    3231627\n",
       "4.0    1452918\n",
       "1.0    1069561\n",
       "3.0     691934\n",
       "2.0     544240\n",
       "Name: stars, dtype: int64"
      ]
     },
     "execution_count": 23,
     "metadata": {},
     "output_type": "execute_result"
    }
   ],
   "source": [
    "# Numero de reviews por calificacion\n",
    "df.stars.value_counts()"
   ]
  },
  {
   "cell_type": "markdown",
   "metadata": {},
   "source": [
    "Columna 'useful'"
   ]
  },
  {
   "cell_type": "code",
   "execution_count": 24,
   "metadata": {},
   "outputs": [
    {
     "data": {
      "text/plain": [
       "0     3840492\n",
       "1     1539953\n",
       "2      687425\n",
       "3      343742\n",
       "4      186984\n",
       "5      112204\n",
       "6       71214\n",
       "7       47679\n",
       "8       34000\n",
       "9       24783\n",
       "10      18475\n",
       "11      14319\n",
       "12      11103\n",
       "13       8751\n",
       "14       7112\n",
       "15       5633\n",
       "16       4688\n",
       "17       3874\n",
       "18       3287\n",
       "19       2780\n",
       "Name: useful, dtype: int64"
      ]
     },
     "execution_count": 24,
     "metadata": {},
     "output_type": "execute_result"
    }
   ],
   "source": [
    "# Top 20 numero de calificaciones 'useful' en las reviews\n",
    "df.useful.value_counts().head(20)"
   ]
  },
  {
   "cell_type": "markdown",
   "metadata": {},
   "source": [
    "Columna 'funny'"
   ]
  },
  {
   "cell_type": "code",
   "execution_count": 25,
   "metadata": {},
   "outputs": [
    {
     "data": {
      "text/plain": [
       "0     5894117\n",
       "1      691994\n",
       "2      195290\n",
       "3       82111\n",
       "4       42254\n",
       "5       24723\n",
       "6       15545\n",
       "7       10178\n",
       "8        7147\n",
       "9        5223\n",
       "10       3739\n",
       "11       2992\n",
       "12       2367\n",
       "13       1896\n",
       "14       1419\n",
       "15       1274\n",
       "16       1014\n",
       "17        781\n",
       "18        694\n",
       "19        599\n",
       "Name: funny, dtype: int64"
      ]
     },
     "execution_count": 25,
     "metadata": {},
     "output_type": "execute_result"
    }
   ],
   "source": [
    "# Top 20 numero de calificaciones funny en las reviews\n",
    "df.funny.value_counts().head(20)"
   ]
  },
  {
   "cell_type": "markdown",
   "metadata": {},
   "source": [
    "Columna 'cool'"
   ]
  },
  {
   "cell_type": "code",
   "execution_count": 26,
   "metadata": {},
   "outputs": [
    {
     "data": {
      "text/plain": [
       "0     5377964\n",
       "1     1016736\n",
       "2      296999\n",
       "3      114763\n",
       "4       56609\n",
       "5       32352\n",
       "6       21530\n",
       "7       15010\n",
       "8       11028\n",
       "9        8085\n",
       "10       6349\n",
       "11       4981\n",
       "12       4011\n",
       "13       3125\n",
       "14       2549\n",
       "15       2105\n",
       "16       1800\n",
       "17       1458\n",
       "18       1270\n",
       "19       1092\n",
       "Name: cool, dtype: int64"
      ]
     },
     "execution_count": 26,
     "metadata": {},
     "output_type": "execute_result"
    }
   ],
   "source": [
    "# Top 20 numero de calificaciones cool en las reviews\n",
    "df.cool.value_counts().head(20)"
   ]
  },
  {
   "cell_type": "markdown",
   "metadata": {},
   "source": [
    "Columna 'text'"
   ]
  },
  {
   "cell_type": "code",
   "execution_count": 27,
   "metadata": {},
   "outputs": [
    {
     "data": {
      "text/plain": [
       "6974127"
      ]
     },
     "execution_count": 27,
     "metadata": {},
     "output_type": "execute_result"
    }
   ],
   "source": [
    "len(df.text.unique())"
   ]
  },
  {
   "cell_type": "code",
   "execution_count": 28,
   "metadata": {},
   "outputs": [],
   "source": [
    "from pyspark.sql.functions import udf, split, size\n",
    "from pyspark.sql.types import IntegerType\n",
    "\n",
    "def count_words(text):\n",
    "    if text is not None:\n",
    "        return len(text.split())\n",
    "    else:\n",
    "        return 0\n",
    "\n",
    "count_words_udf = udf(count_words, IntegerType())\n",
    "\n",
    "df_spark = df_spark.withColumn('word_count', count_words_udf(df_spark['text']))"
   ]
  },
  {
   "cell_type": "code",
   "execution_count": 32,
   "metadata": {},
   "outputs": [
    {
     "name": "stdout",
     "output_type": "stream",
     "text": [
      "+-------+------------------+\n",
      "|summary|        word_count|\n",
      "+-------+------------------+\n",
      "|  count|           6990280|\n",
      "|   mean|104.77632326602082|\n",
      "| stddev| 97.92226559475574|\n",
      "|    min|                 1|\n",
      "|    25%|                42|\n",
      "|    50%|                75|\n",
      "|    75%|               133|\n",
      "|    max|              1070|\n",
      "+-------+------------------+\n",
      "\n"
     ]
    }
   ],
   "source": [
    "# Estadisticas descriptivas del numero de palabras por review\n",
    "df_spark.select('word_count').summary().show()"
   ]
  }
 ],
 "metadata": {
  "kernelspec": {
   "display_name": "Python 3",
   "language": "python",
   "name": "python3"
  },
  "language_info": {
   "codemirror_mode": {
    "name": "ipython",
    "version": 3
   },
   "file_extension": ".py",
   "mimetype": "text/x-python",
   "name": "python",
   "nbconvert_exporter": "python",
   "pygments_lexer": "ipython3",
   "version": "3.9.5"
  },
  "orig_nbformat": 4
 },
 "nbformat": 4,
 "nbformat_minor": 2
}
