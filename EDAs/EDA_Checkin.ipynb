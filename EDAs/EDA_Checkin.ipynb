{
 "cells": [
  {
   "cell_type": "code",
   "execution_count": null,
   "metadata": {},
   "outputs": [],
   "source": [
    "#Comienza tu archivo .py importando las bibliotecas necesarias:\n",
    "from pyspark.sql import SparkSession\n",
    "from datetime import datetime\n",
    "import databricks.koalas as ks\n",
    "import findspark\n",
    "findspark.init()\n",
    "import pyspark\n",
    "findspark.find()\n",
    "import os"
   ]
  },
  {
   "cell_type": "code",
   "execution_count": null,
   "metadata": {},
   "outputs": [],
   "source": [
    "#Configura tu sesión de Spark:\n",
    "spark = SparkSession.builder.master(\"local[*]\").getOrCreate()"
   ]
  },
  {
   "cell_type": "code",
   "execution_count": null,
   "metadata": {},
   "outputs": [],
   "source": [
    "#Si tienes el archivo checkin.json en la misma ubicación que tu script Python, puedes cargarlo de la siguiente manera:\n",
    "checkin = spark.read.load(\"checkin.json\", format=\"json\")\n",
    "eda_checkin = checkin.to_koalas()"
   ]
  },
  {
   "cell_type": "code",
   "execution_count": null,
   "metadata": {},
   "outputs": [],
   "source": [
    "#Definir Funciones:\n",
    "def get_len(value):\n",
    "    ls = value.split(', ')\n",
    "    return len(ls)\n",
    "\n",
    "eda_checkin['total'] = eda_checkin.date.apply(lambda x: get_len(x))\n",
    "eda_checkin.head()"
   ]
  },
  {
   "cell_type": "code",
   "execution_count": null,
   "metadata": {},
   "outputs": [],
   "source": [
    "def calculate_average_checkins(dates_list: list):\n",
    "    total_hours = 0\n",
    "    individual_dates = dates_list.split(', ')\n",
    "    number_of_dates = len(individual_dates)\n",
    "    \n",
    "    for date in individual_dates:\n",
    "        parsed_date = datetime.strptime(date, '%Y-%m-%d %H:%M:%S')\n",
    "        total_hours += parsed_date.hour\n",
    "    \n",
    "    average_checkins = total_hours / number_of_dates\n",
    "    return round(average_checkins, 2)"
   ]
  },
  {
   "cell_type": "code",
   "execution_count": null,
   "metadata": {},
   "outputs": [],
   "source": [
    "eda_checkin['avg_hour'] = k_checkin.date.apply(get_avg_checkins)\n",
    "eda_checkin.head()"
   ]
  },
  {
   "cell_type": "code",
   "execution_count": null,
   "metadata": {},
   "outputs": [],
   "source": [
    "def find_earliest_year(dates_list: list):\n",
    "    individual_dates = dates_list.split(', ')\n",
    "    earliest_year = float('inf')  # Inicializar con un valor alto\n",
    "    \n",
    "    for date in individual_dates:\n",
    "        parsed_date = datetime.strptime(date, '%Y-%m-%d %H:%M:%S')\n",
    "        if parsed_date.year < earliest_year:\n",
    "            earliest_year = parsed_date.year\n",
    "    \n",
    "    return earliest_year\n"
   ]
  },
  {
   "cell_type": "code",
   "execution_count": null,
   "metadata": {},
   "outputs": [],
   "source": [
    "eda_checkin['earliest_year'] = eda_checkin.date.apply(get_earliest_year)\n",
    "eda_checkin.earliest_year.min()"
   ]
  },
  {
   "cell_type": "code",
   "execution_count": null,
   "metadata": {},
   "outputs": [],
   "source": [
    "def count_yearly_checkins(dates_list, target_year):\n",
    "    individual_dates = dates_list.split(', ')\n",
    "    yearly_checkins = []\n",
    "    \n",
    "    for date in individual_dates:\n",
    "        parsed_date = datetime.strptime(date, '%Y-%m-%d %H:%M:%S')\n",
    "        if parsed_date.year == target_year:\n",
    "            yearly_checkins.append(parsed_date)\n",
    "    \n",
    "    return len(yearly_checkins)"
   ]
  },
  {
   "cell_type": "code",
   "execution_count": null,
   "metadata": {},
   "outputs": [],
   "source": [
    "eda_checkin['2010'] = eda_checkin.date.apply(get_yearly_count, args=(2010,))\n",
    "eda_checkin.head()"
   ]
  },
  {
   "cell_type": "code",
   "execution_count": null,
   "metadata": {},
   "outputs": [],
   "source": [
    "#Aplica las funciones a tu DataFrame Koalas:\n",
    "eda_checkin['total'] = eda_checkin.date.apply(lambda x: get_len(x))\n",
    "eda_checkin['avg_hour'] = eda_checkin.date.apply(get_avg_checkins)\n",
    "eda_checkin['earliest_year'] = eda_checkin.date.apply(get_earliest_year)\n",
    "\n",
    "for x in range(2011, 2022):\n",
    "    eda_checkin[str(x)] = eda_checkin.date.apply(get_yearly_count, args=(x,))"
   ]
  }
 ],
 "metadata": {
  "kernelspec": {
   "display_name": "Python 3",
   "language": "python",
   "name": "python3"
  },
  "language_info": {
   "codemirror_mode": {
    "name": "ipython",
    "version": 3
   },
   "file_extension": ".py",
   "mimetype": "text/x-python",
   "name": "python",
   "nbconvert_exporter": "python",
   "pygments_lexer": "ipython3",
   "version": "3.11.4"
  },
  "orig_nbformat": 4
 },
 "nbformat": 4,
 "nbformat_minor": 2
}
