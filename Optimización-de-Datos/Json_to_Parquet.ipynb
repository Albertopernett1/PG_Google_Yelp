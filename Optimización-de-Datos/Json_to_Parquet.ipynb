{
 "cells": [
  {
   "cell_type": "code",
   "execution_count": 1,
   "id": "0c9d783f",
   "metadata": {},
   "outputs": [],
   "source": [
    "import pandas as pd\n",
    "import numpy as np\n",
    "import json\n",
    "import os"
   ]
  },
  {
   "cell_type": "code",
   "execution_count": 2,
   "id": "c0b3040b",
   "metadata": {},
   "outputs": [
    {
     "name": "stdout",
     "output_type": "stream",
     "text": [
      "Archivo checkin.json procesado y guardado como D:\\Proyecto Integrador Parquet\\Yelp\\checkin.parquet\n",
      "Archivo review-002.json procesado y guardado como D:\\Proyecto Integrador Parquet\\Yelp\\review-002.parquet\n",
      "Archivo tip.json procesado y guardado como D:\\Proyecto Integrador Parquet\\Yelp\\tip.parquet\n"
     ]
    }
   ],
   "source": [
    "# Ruta de la carpeta de archivos JSON\n",
    "ruta_carpeta = r'D:\\Proyecto Integrador\\Yelp'\n",
    "\n",
    "# Obtener la lista de archivos JSON en la carpeta\n",
    "archivos_json = [archivo for archivo in os.listdir(ruta_carpeta) if archivo.endswith('.json')]\n",
    "\n",
    "for archivo_json in archivos_json:\n",
    "    ruta_archivo = os.path.join(ruta_carpeta, archivo_json)\n",
    "\n",
    "    data = []  # Crear una lista para almacenar los objetos JSON\n",
    "\n",
    "    with open(ruta_archivo, 'r', encoding='utf-8', errors='replace') as file:\n",
    "        for line in file:\n",
    "            try:\n",
    "                json_data = json.loads(line)\n",
    "                data.append(json_data)\n",
    "            except json.JSONDecodeError:\n",
    "                print(f\"Error en línea: {line.strip()}\")\n",
    "\n",
    "    df = pd.DataFrame(data)\n",
    "    \n",
    "    # Crear una carpeta para los archivos Parquet si no existe\n",
    "    ruta_carpeta_parquet = r'D:\\Proyecto Integrador Parquet\\Yelp'\n",
    "    if not os.path.exists(ruta_carpeta_parquet):\n",
    "        os.makedirs(ruta_carpeta_parquet)\n",
    "\n",
    "    ruta_archivo_parquet = os.path.join(ruta_carpeta_parquet, archivo_json.replace('.json', '.parquet'))\n",
    "    df.to_parquet(ruta_archivo_parquet, index=False)\n",
    "    \n",
    "    print(f\"Archivo {archivo_json} procesado y guardado como {ruta_archivo_parquet}\")"
   ]
  }
 ],
 "metadata": {
  "kernelspec": {
   "display_name": "Python 3 (ipykernel)",
   "language": "python",
   "name": "python3"
  },
  "language_info": {
   "codemirror_mode": {
    "name": "ipython",
    "version": 3
   },
   "file_extension": ".py",
   "mimetype": "text/x-python",
   "name": "python",
   "nbconvert_exporter": "python",
   "pygments_lexer": "ipython3",
   "version": "3.9.7"
  }
 },
 "nbformat": 4,
 "nbformat_minor": 5
}
